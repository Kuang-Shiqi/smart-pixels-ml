{
 "cells": [
  {
   "cell_type": "code",
   "execution_count": 1,
   "metadata": {},
   "outputs": [],
   "source": [
    "import numpy as np\n",
    "import pandas as pd\n",
    "import matplotlib\n",
    "import matplotlib.pyplot as plt\n",
    "#from labellines import labelLine, labelLines\n",
    "import seaborn as sns\n",
    "import os"
   ]
  },
  {
   "cell_type": "code",
   "execution_count": 2,
   "metadata": {},
   "outputs": [],
   "source": [
    "eosdir_pos = '/eos/uscms/store/user/jennetd/smart-pixels/dataset8/unflipped-positive/'\n",
    "eosdir_neg = '/eos/uscms/store/user/jennetd/smart-pixels/dataset8/unflipped-negative/'"
   ]
  },
  {
   "cell_type": "code",
   "execution_count": 3,
   "metadata": {
    "scrolled": true
   },
   "outputs": [],
   "source": [
    "truth = pd.DataFrame()\n",
    "\n",
    "for f in os.listdir(eosdir_pos):\n",
    "    if 'recon' in f:\n",
    "        continue\n",
    "    truth = pd.concat([truth,pd.read_csv(eosdir_pos+f),])\n",
    "    \n",
    "for f in os.listdir(eosdir_neg):\n",
    "    if 'recon' in f:\n",
    "        continue\n",
    "    truth = pd.concat([truth,pd.read_csv(eosdir_neg+f),])\n",
    "    "
   ]
  },
  {
   "cell_type": "code",
   "execution_count": 4,
   "metadata": {},
   "outputs": [
    {
     "data": {
      "text/html": [
       "<div>\n",
       "<style scoped>\n",
       "    .dataframe tbody tr th:only-of-type {\n",
       "        vertical-align: middle;\n",
       "    }\n",
       "\n",
       "    .dataframe tbody tr th {\n",
       "        vertical-align: top;\n",
       "    }\n",
       "\n",
       "    .dataframe thead th {\n",
       "        text-align: right;\n",
       "    }\n",
       "</style>\n",
       "<table border=\"1\" class=\"dataframe\">\n",
       "  <thead>\n",
       "    <tr style=\"text-align: right;\">\n",
       "      <th></th>\n",
       "      <th>x-entry</th>\n",
       "      <th>y-entry</th>\n",
       "      <th>z-entry</th>\n",
       "      <th>n_x</th>\n",
       "      <th>n_y</th>\n",
       "      <th>n_z</th>\n",
       "      <th>number_eh_pairs</th>\n",
       "      <th>y-local</th>\n",
       "      <th>pt</th>\n",
       "      <th>cotAlpha</th>\n",
       "      <th>cotBeta</th>\n",
       "      <th>y-midplane</th>\n",
       "      <th>x-midplane</th>\n",
       "    </tr>\n",
       "  </thead>\n",
       "  <tbody>\n",
       "    <tr>\n",
       "      <th>0</th>\n",
       "      <td>12.063666</td>\n",
       "      <td>30.923424</td>\n",
       "      <td>100.0</td>\n",
       "      <td>0.768970</td>\n",
       "      <td>-0.160933</td>\n",
       "      <td>-0.634940</td>\n",
       "      <td>10034.0</td>\n",
       "      <td>-6.94104</td>\n",
       "      <td>0.656019</td>\n",
       "      <td>-1.211091</td>\n",
       "      <td>0.253462</td>\n",
       "      <td>18.250337</td>\n",
       "      <td>72.618207</td>\n",
       "    </tr>\n",
       "    <tr>\n",
       "      <th>1</th>\n",
       "      <td>67.455246</td>\n",
       "      <td>4.533963</td>\n",
       "      <td>100.0</td>\n",
       "      <td>-1.205132</td>\n",
       "      <td>-0.087774</td>\n",
       "      <td>-0.635886</td>\n",
       "      <td>15383.0</td>\n",
       "      <td>-4.33669</td>\n",
       "      <td>0.637776</td>\n",
       "      <td>1.895201</td>\n",
       "      <td>0.138034</td>\n",
       "      <td>-2.367746</td>\n",
       "      <td>-27.304821</td>\n",
       "    </tr>\n",
       "    <tr>\n",
       "      <th>2</th>\n",
       "      <td>-225.239441</td>\n",
       "      <td>13.836857</td>\n",
       "      <td>100.0</td>\n",
       "      <td>1.451834</td>\n",
       "      <td>-0.039285</td>\n",
       "      <td>-0.467361</td>\n",
       "      <td>26680.0</td>\n",
       "      <td>-2.67448</td>\n",
       "      <td>0.468860</td>\n",
       "      <td>-3.106451</td>\n",
       "      <td>0.084057</td>\n",
       "      <td>9.634003</td>\n",
       "      <td>-69.916896</td>\n",
       "    </tr>\n",
       "    <tr>\n",
       "      <th>3</th>\n",
       "      <td>-2.914946</td>\n",
       "      <td>11.285143</td>\n",
       "      <td>100.0</td>\n",
       "      <td>-0.110369</td>\n",
       "      <td>-0.034764</td>\n",
       "      <td>-0.554253</td>\n",
       "      <td>8183.0</td>\n",
       "      <td>-2.11685</td>\n",
       "      <td>0.555289</td>\n",
       "      <td>0.199131</td>\n",
       "      <td>0.062722</td>\n",
       "      <td>8.149030</td>\n",
       "      <td>-12.871500</td>\n",
       "    </tr>\n",
       "    <tr>\n",
       "      <th>4</th>\n",
       "      <td>286.367920</td>\n",
       "      <td>-9.845788</td>\n",
       "      <td>100.0</td>\n",
       "      <td>-3.201757</td>\n",
       "      <td>-0.015797</td>\n",
       "      <td>-0.738721</td>\n",
       "      <td>27677.0</td>\n",
       "      <td>-0.96378</td>\n",
       "      <td>0.740845</td>\n",
       "      <td>4.334190</td>\n",
       "      <td>0.021384</td>\n",
       "      <td>-10.915001</td>\n",
       "      <td>69.658432</td>\n",
       "    </tr>\n",
       "  </tbody>\n",
       "</table>\n",
       "</div>"
      ],
      "text/plain": [
       "      x-entry    y-entry  z-entry       n_x       n_y       n_z  \\\n",
       "0   12.063666  30.923424    100.0  0.768970 -0.160933 -0.634940   \n",
       "1   67.455246   4.533963    100.0 -1.205132 -0.087774 -0.635886   \n",
       "2 -225.239441  13.836857    100.0  1.451834 -0.039285 -0.467361   \n",
       "3   -2.914946  11.285143    100.0 -0.110369 -0.034764 -0.554253   \n",
       "4  286.367920  -9.845788    100.0 -3.201757 -0.015797 -0.738721   \n",
       "\n",
       "   number_eh_pairs  y-local        pt  cotAlpha   cotBeta  y-midplane  \\\n",
       "0          10034.0 -6.94104  0.656019 -1.211091  0.253462   18.250337   \n",
       "1          15383.0 -4.33669  0.637776  1.895201  0.138034   -2.367746   \n",
       "2          26680.0 -2.67448  0.468860 -3.106451  0.084057    9.634003   \n",
       "3           8183.0 -2.11685  0.555289  0.199131  0.062722    8.149030   \n",
       "4          27677.0 -0.96378  0.740845  4.334190  0.021384  -10.915001   \n",
       "\n",
       "   x-midplane  \n",
       "0   72.618207  \n",
       "1  -27.304821  \n",
       "2  -69.916896  \n",
       "3  -12.871500  \n",
       "4   69.658432  "
      ]
     },
     "execution_count": 4,
     "metadata": {},
     "output_type": "execute_result"
    }
   ],
   "source": [
    "truth.head()"
   ]
  },
  {
   "cell_type": "code",
   "execution_count": 5,
   "metadata": {},
   "outputs": [
    {
     "data": {
      "image/png": "[encoded data removed]",
      "text/plain": [
       "<Figure size 432x288 with 1 Axes>"
      ]
     },
     "metadata": {
      "needs_background": "light"
     },
     "output_type": "display_data"
    }
   ],
   "source": [
    "plt.hist(truth['number_eh_pairs'],bins=50);\n",
    "plt.xlabel('Number of eh pairs')\n",
    "plt.yscale('log')"
   ]
  },
  {
   "cell_type": "code",
   "execution_count": 6,
   "metadata": {},
   "outputs": [
    {
     "data": {
      "image/png": "[encoded data removed]",
      "text/plain": [
       "<Figure size 432x288 with 1 Axes>"
      ]
     },
     "metadata": {
      "needs_background": "light"
     },
     "output_type": "display_data"
    }
   ],
   "source": [
    "x = sns.regplot(x=truth['pt'], y=truth['number_eh_pairs'], x_bins=np.linspace(0,5,10), fit_reg=None, marker='.', ci=68, color='black')"
   ]
  },
  {
   "cell_type": "code",
   "execution_count": 7,
   "metadata": {},
   "outputs": [
    {
     "data": {
      "image/png": "[encoded data removed]",
      "text/plain": [
       "<Figure size 432x288 with 1 Axes>"
      ]
     },
     "metadata": {
      "needs_background": "light"
     },
     "output_type": "display_data"
    }
   ],
   "source": [
    "x = sns.regplot(x=truth['y-local'], y=truth['number_eh_pairs'], x_bins=np.linspace(-8,8,10), fit_reg=None, marker='.', ci=68, color='black')"
   ]
  },
  {
   "cell_type": "code",
   "execution_count": 8,
   "metadata": {},
   "outputs": [
    {
     "data": {
      "image/png": "[encoded data removed]",
      "text/plain": [
       "<Figure size 432x288 with 1 Axes>"
      ]
     },
     "metadata": {
      "needs_background": "light"
     },
     "output_type": "display_data"
    }
   ],
   "source": [
    "plt.hist(truth['y-local'],bins=20,histtype='stepfilled');\n",
    "plt.xlabel(r'$y_0$ [mm]')\n",
    "plt.ylabel('Tracks')\n",
    "plt.savefig('dataset678/ylocal.pdf',bbox_inches='tight')"
   ]
  },
  {
   "cell_type": "code",
   "execution_count": 9,
   "metadata": {},
   "outputs": [
    {
     "data": {
      "text/plain": [
       "(1000, 2000000)"
      ]
     },
     "execution_count": 9,
     "metadata": {},
     "output_type": "execute_result"
    },
    {
     "data": {
      "image/png": "[encoded data removed]",
      "text/plain": [
       "<Figure size 432x288 with 1 Axes>"
      ]
     },
     "metadata": {
      "needs_background": "light"
     },
     "output_type": "display_data"
    }
   ],
   "source": [
    "plt.hist(truth['pt'],bins=np.linspace(0,5,50),histtype='stepfilled');\n",
    "plt.xlabel(r'$p_T$ [GeV]')\n",
    "plt.ylabel('Tracks')\n",
    "plt.yscale('Log')\n",
    "plt.plot([0.2,0.2],[0,5000000],color='black')\n",
    "plt.plot([0.5,0.5],[0,5000000],color='black',linestyle='--')\n",
    "plt.plot([1,1],[0,5000000],color='black',linestyle='--')\n",
    "plt.plot([2,2],[0,5000000],color='black',linestyle='--')\n",
    "plt.ylim(1000,2000000)\n",
    "\n",
    "#plt.savefig('dataset678/pT.pdf',bbox_inches='tight')"
   ]
  },
  {
   "cell_type": "code",
   "execution_count": 11,
   "metadata": {},
   "outputs": [
    {
     "data": {
      "image/png": "[encoded data removed]",
      "text/plain": [
       "<Figure size 432x288 with 1 Axes>"
      ]
     },
     "metadata": {
      "needs_background": "light"
     },
     "output_type": "display_data"
    }
   ],
   "source": [
    "plt.hist(truth['pt'],bins=np.linspace(0,5,50),histtype='stepfilled');\n",
    "plt.xlabel(r'$p_T$ [GeV]')\n",
    "plt.ylabel('Tracks')\n",
    "\n",
    "plt.savefig('dataset678/pT.pdf',bbox_inches='tight')"
   ]
  },
  {
   "cell_type": "code",
   "execution_count": null,
   "metadata": {},
   "outputs": [],
   "source": [
    "plt.hist(truth['cotBeta'],bins=50,histtype='stepfilled');\n",
    "plt.xlabel(r'$\\cot\\beta$')\n",
    "plt.ylabel('Tracks')\n",
    "plt.savefig('dataset678/cotBeta.pdf',bbox_inches='tight')"
   ]
  },
  {
   "cell_type": "code",
   "execution_count": null,
   "metadata": {},
   "outputs": [],
   "source": [
    "plt.hist(truth['cotAlpha'],bins=50,histtype='stepfilled');\n",
    "plt.xlabel(r'$\\cot\\alpha$')\n",
    "plt.ylabel('Tracks')\n",
    "plt.savefig('dataset678/cotAlpha.pdf',bbox_inches='tight')"
   ]
  },
  {
   "cell_type": "code",
   "execution_count": null,
   "metadata": {},
   "outputs": [],
   "source": [
    "plt.hist(truth['x-midplane'],bins=50);"
   ]
  },
  {
   "cell_type": "code",
   "execution_count": null,
   "metadata": {},
   "outputs": [],
   "source": [
    "plt.hist(truth['y-midplane'],bins=50);"
   ]
  },
  {
   "cell_type": "code",
   "execution_count": null,
   "metadata": {},
   "outputs": [],
   "source": [
    "plt.hist(truth['n_x'],bins=50);\n",
    "plt.xlabel(r'Particle origin $z$ [mm]')"
   ]
  },
  {
   "cell_type": "code",
   "execution_count": null,
   "metadata": {},
   "outputs": [],
   "source": [
    "plt.hist(truth['n_y'],bins=50);"
   ]
  },
  {
   "cell_type": "code",
   "execution_count": null,
   "metadata": {},
   "outputs": [],
   "source": [
    "B = 3.8*(3*10**8) # eV/m\n",
    "R = 0.029 # meters\n",
    "\n",
    "def deltaPhi(pT,q):\n",
    "    pT = pT*10**9 # eV\n",
    "    return np.arcsin(q*R*B/(2*pT))\n",
    "\n",
    "def cotBeta(pT,q,yloc):\n",
    "    return 1./np.tan(np.pi/2 - deltaPhi(pT,q) - np.arctan(yloc/R))\n",
    "\n",
    "def pT(cotBeta,q,yloc):\n",
    "    dPhi = 1*np.arctan(1./cotBeta) - np.pi/2 + np.arctan(yloc/R)\n",
    "    return q*R*B/(2*np.sin(dPhi))/(10**9) # eV\n",
    "\n",
    "# Sanity check\n",
    "pt = 4\n",
    "pT(cotBeta(pt,1,.01),1,.01)"
   ]
  },
  {
   "cell_type": "code",
   "execution_count": null,
   "metadata": {},
   "outputs": [],
   "source": [
    "xmin = 0.2\n",
    "xmax = 3\n",
    "\n",
    "x = np.linspace(xmin,xmax,100)\n",
    "y = np.linspace(-0.5,0.5,100)\n",
    "\n",
    "fig, ax = plt.subplots(1,1)\n",
    "\n",
    "plt.hist2d(truth['pt'],truth['cotBeta'],bins=[x,y],norm = matplotlib.colors.LogNorm());\n",
    "\n",
    "y1 = cotBeta(x,1,0)\n",
    "plt.plot(x,y1,label=r'center',color='red')\n",
    "\n",
    "y2 = cotBeta(x,1,0.008)\n",
    "plt.plot(x,y2,label=r'left edge',color='red')\n",
    "\n",
    "y3 = cotBeta(x,1,-0.008)\n",
    "plt.plot(x,y3,label=r'right edge',color='red')\n",
    "\n",
    "xvals = [4, 5, 4]\n",
    "\n",
    "labelLines(ax.get_lines(), align=False, xvals=xvals, yoffsets=0.05, backgroundcolor=\"none\")\n",
    "\n",
    "plt.xlabel(r'$p_T$ [GeV]')\n",
    "plt.ylabel(r'$\\cot \\beta$')\n",
    "plt.savefig('dataset678/pTcotBeta.pdf')"
   ]
  },
  {
   "cell_type": "code",
   "execution_count": null,
   "metadata": {},
   "outputs": [],
   "source": [
    "def deltaZ(theta,R):\n",
    "    return R/np.tan(theta)\n",
    "\n",
    "def Eta(theta):\n",
    "    return -np.log(np.tan(theta/2))\n",
    "\n",
    "def Theta(eta):\n",
    "    return 2*np.arctan(np.exp(-1*eta))"
   ]
  },
  {
   "cell_type": "code",
   "execution_count": null,
   "metadata": {},
   "outputs": [],
   "source": [
    "def pix_grid():\n",
    "    for i in range(0,22):\n",
    "        x = 50*i-525\n",
    "        plt.plot([x,x],[-100,100],color='lightgray',linewidth=0.5)\n",
    "        \n",
    "    for i in range(0,14):\n",
    "        y = 12.5*i-81.25\n",
    "        plt.plot([-550,550],[y,y],color='lightgray',linewidth=0.5)\n",
    "    "
   ]
  },
  {
   "cell_type": "code",
   "execution_count": null,
   "metadata": {},
   "outputs": [],
   "source": [
    "plt.hist2d(x=truth['x-entry'],y=truth['y-entry'],bins=[np.linspace(-525,525,50),np.linspace(-81.25,81.25,50)]);\n",
    "plt.xlabel(r'x entry [$\\mu$m]')\n",
    "plt.ylabel(r'y entry [$\\mu$m]')\n",
    "pix_grid()\n",
    "#plt.xlim(-525,525)\n",
    "#plt.ylim(-81.25,81.25)\n",
    "\n",
    "plt.savefig('dataset678/xy.pdf')"
   ]
  },
  {
   "cell_type": "code",
   "execution_count": null,
   "metadata": {},
   "outputs": [],
   "source": [
    "plt.hist2d(x=truth['x-midplane'],y=truth['y-midplane'],bins=[np.linspace(-525,525,50),np.linspace(-81.25,81.25,150)]);\n",
    "plt.xlabel(r'x [$\\mu$m]')\n",
    "plt.ylabel(r'y [$\\mu$m]')\n",
    "pix_grid()\n",
    "#plt.xlim(-525,525)\n",
    "#plt.ylim(-81.25,81.25)\n",
    "\n",
    "plt.savefig('dataset678/xy.pdf')"
   ]
  },
  {
   "cell_type": "code",
   "execution_count": null,
   "metadata": {},
   "outputs": [],
   "source": [
    "plt.hist2d(x=truth['pt'],y=truth['cotAlpha'],bins=50);"
   ]
  },
  {
   "cell_type": "code",
   "execution_count": null,
   "metadata": {},
   "outputs": [],
   "source": [
    "plt.hist2d(x=truth['pt'],y=truth['number_eh_pairs'],bins=50,norm = matplotlib.colors.LogNorm());"
   ]
  },
  {
   "cell_type": "code",
   "execution_count": null,
   "metadata": {},
   "outputs": [],
   "source": [
    "def charge_per_path(Q,cota,cotb):\n",
    "    return Q/np.sqrt(1+cota*cota+cotb*cotb)\n",
    "\n",
    "truth['charge_per_path'] = charge_per_path(truth['number_eh_pairs'],truth['cotAlpha'],truth['cotBeta'])\n"
   ]
  },
  {
   "cell_type": "code",
   "execution_count": null,
   "metadata": {},
   "outputs": [],
   "source": [
    "plt.hist(truth['charge_per_path'],bins=50)\n",
    "plt.xlabel('Charge per unit path length [eh/ ?]')\n",
    "plt.yscale('log')"
   ]
  },
  {
   "cell_type": "code",
   "execution_count": null,
   "metadata": {},
   "outputs": [],
   "source": [
    "plt.hist2d(x=truth['pt'],y=truth['charge_per_path'],bins=[200,50],norm = matplotlib.colors.LogNorm());\n",
    "plt.xlabel(r'$p_T$ [GeV]')\n",
    "plt.xlim(0,1)"
   ]
  },
  {
   "cell_type": "code",
   "execution_count": null,
   "metadata": {},
   "outputs": [],
   "source": [
    "plt.hist2d(x=truth['y-local'],y=truth['charge_per_path'],bins=50,norm = matplotlib.colors.LogNorm());"
   ]
  },
  {
   "cell_type": "code",
   "execution_count": null,
   "metadata": {},
   "outputs": [],
   "source": [
    "plt.hist2d(x=truth['cotBeta'],y=truth['number_eh_pairs'],bins=50);"
   ]
  },
  {
   "cell_type": "code",
   "execution_count": null,
   "metadata": {},
   "outputs": [],
   "source": [
    "x = sns.regplot(x=truth['cotBeta'], y=truth['number_eh_pairs'], x_bins=50, fit_reg=None, marker='.', x_ci=68, color='black')\n",
    "#plt.xlabel(r'True $\\cot \\beta$')\n",
    "#plt.ylabel(r'True - Pred $\\cot \\beta$')"
   ]
  },
  {
   "cell_type": "code",
   "execution_count": null,
   "metadata": {},
   "outputs": [],
   "source": [
    "plt.hist2d(x=truth['cotAlpha'],y=truth['number_eh_pairs'],bins=50);"
   ]
  },
  {
   "cell_type": "code",
   "execution_count": null,
   "metadata": {},
   "outputs": [],
   "source": [
    "x = sns.regplot(x=truth['cotAlpha'], y=truth['number_eh_pairs'], x_bins=50, fit_reg=None, marker='.', ci=68, color='black')\n",
    "#plt.xlabel(r'True $\\cot \\beta$')\n",
    "#plt.ylabel(r'True - Pred $\\cot \\beta$')"
   ]
  },
  {
   "cell_type": "code",
   "execution_count": null,
   "metadata": {},
   "outputs": [],
   "source": [
    "plt.hist2d(x=truth['y-local'],y=truth['number_eh_pairs'],bins=50);"
   ]
  },
  {
   "cell_type": "code",
   "execution_count": null,
   "metadata": {},
   "outputs": [],
   "source": [
    "def fraction(threshold):\n",
    "    return len(truth[abs(truth['pt'])<threshold])/len(truth)"
   ]
  },
  {
   "cell_type": "code",
   "execution_count": null,
   "metadata": {},
   "outputs": [],
   "source": [
    "fraction(0.2)"
   ]
  },
  {
   "cell_type": "code",
   "execution_count": null,
   "metadata": {},
   "outputs": [],
   "source": [
    "fraction(0.5)"
   ]
  },
  {
   "cell_type": "code",
   "execution_count": null,
   "metadata": {},
   "outputs": [],
   "source": [
    "fraction(1)"
   ]
  },
  {
   "cell_type": "code",
   "execution_count": null,
   "metadata": {},
   "outputs": [],
   "source": [
    "fraction(2)"
   ]
  },
  {
   "cell_type": "code",
   "execution_count": null,
   "metadata": {},
   "outputs": [],
   "source": []
  }
 ],
 "metadata": {
  "kernelspec": {
   "display_name": "Python 3 (ipykernel)",
   "language": "python",
   "name": "python3"
  },
  "language_info": {
   "codemirror_mode": {
    "name": "ipython",
    "version": 3
   },
   "file_extension": ".py",
   "mimetype": "text/x-python",
   "name": "python",
   "nbconvert_exporter": "python",
   "pygments_lexer": "ipython3",
   "version": "3.9.6"
  }
 },
 "nbformat": 4,
 "nbformat_minor": 2
}
