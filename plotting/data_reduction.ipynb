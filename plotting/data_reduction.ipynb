{
 "cells": [
  {
   "cell_type": "code",
   "execution_count": 77,
   "id": "6680cbec-9c42-4716-ba8f-a8ef2031438d",
   "metadata": {},
   "outputs": [],
   "source": [
    "import matplotlib\n",
    "import matplotlib.pyplot as plt\n",
    "#from labellines import labelLine, labelLines\n",
    "import seaborn as sns\n",
    "import os\n",
    "import pandas as pd\n",
    "import glob\n",
    "import numpy as np"
   ]
  },
  {
   "cell_type": "code",
   "execution_count": 78,
   "id": "f0b0240c-f48b-4edb-8d70-3e2e34e106a7",
   "metadata": {},
   "outputs": [],
   "source": [
    "path = '/uscms/home/jieun201/nobackup/YOURWORKINGAREA/june23_ds8_labelsOnly'\n",
    "csv_files = glob.glob(path + \"/*.csv\")\n",
    "df_labels = (pd.read_csv(file) for file in csv_files)\n",
    "big_df_labels   = pd.concat(df_labels, ignore_index=True)"
   ]
  },
  {
   "cell_type": "code",
   "execution_count": 79,
   "id": "23e36860-2f7b-498b-b942-486e0be21d3d",
   "metadata": {},
   "outputs": [],
   "source": [
    "path = '/uscms/home/jieun201/nobackup/YOURWORKINGAREA/june23_ds8_negativeLabelsOnly'\n",
    "csv_files2 = glob.glob(path + \"/*.csv\")\n",
    "df_labels2 = (pd.read_csv(file) for file in csv_files2)\n",
    "big_df_labels2   = pd.concat(df_labels2, ignore_index=True)"
   ]
  },
  {
   "cell_type": "code",
   "execution_count": 80,
   "id": "eba70e94-ed69-4da8-8536-74e4b1d9efb1",
   "metadata": {},
   "outputs": [],
   "source": [
    "mergePosNeg = pd.concat([big_df_labels, big_df_labels2])"
   ]
  },
  {
   "cell_type": "code",
   "execution_count": 81,
   "id": "a3286cf0-a405-4de2-9851-08130a6642b9",
   "metadata": {},
   "outputs": [
    {
     "data": {
      "text/plain": [
       "Text(0, 0.5, 'Tracks')"
      ]
     },
     "execution_count": 81,
     "metadata": {},
     "output_type": "execute_result"
    },
    {
     "data": {
      "image/png": "[encoded data removed]",
      "text/plain": [
       "<Figure size 432x288 with 1 Axes>"
      ]
     },
     "metadata": {
      "needs_background": "light"
     },
     "output_type": "display_data"
    }
   ],
   "source": [
    "# True pT distribution (physical with sign)\n",
    "plt.hist(mergePosNeg['pt'],bins=np.linspace(-5,5,50),histtype='stepfilled');\n",
    "plt.xlabel(r'$p_T$ [GeV]')\n",
    "plt.ylabel('Tracks')"
   ]
  },
  {
   "cell_type": "code",
   "execution_count": 82,
   "id": "16a657d7-ee32-4a66-824b-fe5212903165",
   "metadata": {},
   "outputs": [
    {
     "data": {
      "image/png": "[encoded data removed]",
      "text/plain": [
       "<Figure size 432x288 with 1 Axes>"
      ]
     },
     "metadata": {
      "needs_background": "light"
     },
     "output_type": "display_data"
    }
   ],
   "source": [
    "# True pT distribution (physical no sign)\n",
    "h_physical = plt.hist(abs(mergePosNeg['pt']),bins=np.linspace(0,5,51),histtype='stepfilled');\n",
    "plt.xlabel(r'$p_T$ [GeV]')\n",
    "plt.ylabel('Tracks')\n",
    "\n",
    "# weight per pT bin\n",
    "w_physical = h_physical[0]/np.sum(h_physical[0])"
   ]
  },
  {
   "cell_type": "code",
   "execution_count": 119,
   "id": "32d997fe-6048-4161-8bbd-eee1b50986eb",
   "metadata": {},
   "outputs": [
    {
     "data": {
      "text/html": [
       "<div>\n",
       "<style scoped>\n",
       "    .dataframe tbody tr th:only-of-type {\n",
       "        vertical-align: middle;\n",
       "    }\n",
       "\n",
       "    .dataframe tbody tr th {\n",
       "        vertical-align: top;\n",
       "    }\n",
       "\n",
       "    .dataframe thead th {\n",
       "        text-align: right;\n",
       "    }\n",
       "</style>\n",
       "<table border=\"1\" class=\"dataframe\">\n",
       "  <thead>\n",
       "    <tr style=\"text-align: right;\">\n",
       "      <th></th>\n",
       "      <th>pt</th>\n",
       "      <th>predict</th>\n",
       "      <th>true</th>\n",
       "    </tr>\n",
       "  </thead>\n",
       "  <tbody>\n",
       "    <tr>\n",
       "      <th>0</th>\n",
       "      <td>-2.627300</td>\n",
       "      <td>0</td>\n",
       "      <td>0</td>\n",
       "    </tr>\n",
       "    <tr>\n",
       "      <th>1</th>\n",
       "      <td>0.195180</td>\n",
       "      <td>2</td>\n",
       "      <td>2</td>\n",
       "    </tr>\n",
       "    <tr>\n",
       "      <th>2</th>\n",
       "      <td>1.338710</td>\n",
       "      <td>2</td>\n",
       "      <td>0</td>\n",
       "    </tr>\n",
       "    <tr>\n",
       "      <th>3</th>\n",
       "      <td>0.180981</td>\n",
       "      <td>2</td>\n",
       "      <td>2</td>\n",
       "    </tr>\n",
       "    <tr>\n",
       "      <th>4</th>\n",
       "      <td>0.457629</td>\n",
       "      <td>0</td>\n",
       "      <td>0</td>\n",
       "    </tr>\n",
       "  </tbody>\n",
       "</table>\n",
       "</div>"
      ],
      "text/plain": [
       "         pt  predict  true\n",
       "0 -2.627300        0     0\n",
       "1  0.195180        2     2\n",
       "2  1.338710        2     0\n",
       "3  0.180981        2     2\n",
       "4  0.457629        0     0"
      ]
     },
     "execution_count": 119,
     "metadata": {},
     "output_type": "execute_result"
    }
   ],
   "source": [
    "df1 = pd.read_csv('/uscms/home/jieun201/nobackup/YOURWORKINGAREA/dec6_ds8/TestSetTruePT.csv')\n",
    "df2 = pd.read_csv('predictionsFiles.csv')\n",
    "df3 = pd.read_csv('true.csv')\n",
    "df2.columns.values[0] = \"predict\"\n",
    "df3.columns.values[0] = \"true\"\n",
    "df2['predict'] = df2['predict'].astype(int)\n",
    "concatenate = pd.concat([df1,df2, df3], axis=1)\n",
    "concatenate.head()"
   ]
  },
  {
   "cell_type": "code",
   "execution_count": 84,
   "id": "c39aa643",
   "metadata": {},
   "outputs": [
    {
     "data": {
      "image/png": "[encoded data removed]",
      "text/plain": [
       "<Figure size 432x288 with 1 Axes>"
      ]
     },
     "metadata": {
      "needs_background": "light"
     },
     "output_type": "display_data"
    }
   ],
   "source": [
    "# Unphysical pT distribution (no sign)\n",
    "h_unphysical = plt.hist(abs(concatenate['pt']),bins=np.linspace(0,5,51),histtype='stepfilled');\n",
    "w_unphysical = h_unphysical[0]/np.sum(h_unphysical[0])"
   ]
  },
  {
   "cell_type": "code",
   "execution_count": 85,
   "id": "7ee9840e",
   "metadata": {},
   "outputs": [
    {
     "data": {
      "text/plain": [
       "array([0.09220273, 0.10520659, 1.86635974, 1.87644152, 1.8819957 ,\n",
       "       1.91067204, 1.97581635, 1.89253467, 1.92261177, 1.91121519,\n",
       "       1.87466787, 1.8842394 , 1.91810034, 1.79382944, 1.91599299,\n",
       "       1.8178862 , 1.78914007, 1.88271918, 1.92228433, 1.90341326,\n",
       "       2.14688638, 1.9437286 , 1.9955825 , 2.02025703, 2.04058718,\n",
       "       1.90479868, 1.89203297, 2.04087254, 1.5830703 , 2.52523492,\n",
       "       1.93053214, 1.6749192 , 2.4488752 , 1.6518003 , 2.11012533,\n",
       "       1.58976917, 2.04652731, 2.11429708, 2.27066745, 1.69887097,\n",
       "       1.99169543, 1.99462297, 2.82431519, 2.24580372, 1.45971479,\n",
       "       1.78399436, 1.99583447, 2.32554695, 1.67443143, 1.86399509])"
      ]
     },
     "execution_count": 85,
     "metadata": {},
     "output_type": "execute_result"
    }
   ],
   "source": [
    "# weight each bin up by physical weight, down by unphysical weight\n",
    "r = w_physical/w_unphysical\n",
    "r"
   ]
  },
  {
   "cell_type": "code",
   "execution_count": 116,
   "id": "be7d3541",
   "metadata": {},
   "outputs": [
    {
     "data": {
      "image/png": "[encoded data removed]",
      "text/plain": [
       "<Figure size 432x288 with 1 Axes>"
      ]
     },
     "metadata": {
      "needs_background": "light"
     },
     "output_type": "display_data"
    }
   ],
   "source": [
    "# Check that I did this right...\n",
    "plt.hist(np.linspace(0,5,50),bins=np.linspace(0,5,51),weights=h_unphysical[0]*r,histtype='step',density=True);\n",
    "plt.hist(abs(mergePosNeg['pt']),bins=np.linspace(0,5,51),histtype='step',linestyle='--',density=True);"
   ]
  },
  {
   "cell_type": "code",
   "execution_count": 66,
   "id": "7e43fc9e",
   "metadata": {},
   "outputs": [
    {
     "data": {
      "image/png": "[encoded data removed]",
      "text/plain": [
       "<Figure size 432x288 with 1 Axes>"
      ]
     },
     "metadata": {
      "needs_background": "light"
     },
     "output_type": "display_data"
    }
   ],
   "source": [
    "# Unphysical pT distribution of rejected clusters only\n",
    "h_reject = plt.hist(abs(concatenate[concatenate['predict']>0]['pt']),bins=np.linspace(0,5,51))"
   ]
  },
  {
   "cell_type": "code",
   "execution_count": 117,
   "id": "d330123d",
   "metadata": {},
   "outputs": [
    {
     "data": {
      "text/plain": [
       "0.24462735155980214"
      ]
     },
     "execution_count": 117,
     "metadata": {},
     "output_type": "execute_result"
    }
   ],
   "source": [
    "np.sum(h_reject[0]*r)/np.sum(h_unphysical[0]*r)"
   ]
  },
  {
   "cell_type": "code",
   "execution_count": 120,
   "id": "37c5efe8",
   "metadata": {},
   "outputs": [
    {
     "data": {
      "image/png": "[encoded data removed]",
      "text/plain": [
       "<Figure size 432x288 with 1 Axes>"
      ]
     },
     "metadata": {
      "needs_background": "light"
     },
     "output_type": "display_data"
    }
   ],
   "source": [
    "# Unphysical pT distribution of true low pT clusters\n",
    "h_lowpt = plt.hist(abs(concatenate[concatenate['true']>0]['pt']),bins=np.linspace(0,5,51))"
   ]
  },
  {
   "cell_type": "code",
   "execution_count": 121,
   "id": "802c26e7",
   "metadata": {},
   "outputs": [
    {
     "data": {
      "text/plain": [
       "0.052589897929206736"
      ]
     },
     "execution_count": 121,
     "metadata": {},
     "output_type": "execute_result"
    }
   ],
   "source": [
    "np.sum(h_lowpt[0]*r)/np.sum(h_unphysical[0]*r)"
   ]
  },
  {
   "cell_type": "code",
   "execution_count": 122,
   "id": "42def51f",
   "metadata": {},
   "outputs": [
    {
     "data": {
      "image/png": "[encoded data removed]",
      "text/plain": [
       "<Figure size 432x288 with 1 Axes>"
      ]
     },
     "metadata": {
      "needs_background": "light"
     },
     "output_type": "display_data"
    }
   ],
   "source": [
    "# Unphysical pT distribution of true low pT clusters\n",
    "h_lowpt = plt.hist(abs(concatenate[abs(concatenate['pt'])<2]['pt']),bins=np.linspace(0,5,51))"
   ]
  },
  {
   "cell_type": "code",
   "execution_count": 123,
   "id": "02ad30cc",
   "metadata": {},
   "outputs": [
    {
     "data": {
      "text/plain": [
       "0.9657210898385493"
      ]
     },
     "execution_count": 123,
     "metadata": {},
     "output_type": "execute_result"
    }
   ],
   "source": [
    "np.sum(h_lowpt[0]*r)/np.sum(h_unphysical[0]*r)"
   ]
  },
  {
   "cell_type": "code",
   "execution_count": 127,
   "id": "752b0c21",
   "metadata": {},
   "outputs": [
    {
     "data": {
      "text/plain": [
       "0.9657210898385494"
      ]
     },
     "execution_count": 127,
     "metadata": {},
     "output_type": "execute_result"
    }
   ],
   "source": [
    "len(mergePosNeg[abs(mergePosNeg['pt'])<2])/len(mergePosNeg['pt'])"
   ]
  },
  {
   "cell_type": "code",
   "execution_count": null,
   "id": "d3571000",
   "metadata": {},
   "outputs": [],
   "source": []
  }
 ],
 "metadata": {
  "kernelspec": {
   "display_name": "Python 3 (ipykernel)",
   "language": "python",
   "name": "python3"
  },
  "language_info": {
   "codemirror_mode": {
    "name": "ipython",
    "version": 3
   },
   "file_extension": ".py",
   "mimetype": "text/x-python",
   "name": "python",
   "nbconvert_exporter": "python",
   "pygments_lexer": "ipython3",
   "version": "3.12.2"
  }
 },
 "nbformat": 4,
 "nbformat_minor": 5
}
