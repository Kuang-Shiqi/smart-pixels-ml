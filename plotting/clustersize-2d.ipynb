{
 "cells": [
  {
   "cell_type": "code",
   "execution_count": 3,
   "metadata": {},
   "outputs": [],
   "source": [
    "import numpy as np\n",
    "import pandas as pd\n",
    "import matplotlib\n",
    "import matplotlib.pyplot as plt\n",
    "import seaborn as sns\n",
    "import os"
   ]
  },
  {
   "cell_type": "code",
   "execution_count": 15,
   "metadata": {},
   "outputs": [
    {
     "name": "stdout",
     "output_type": "stream",
     "text": [
      "Processing + charge\n",
      "Processing - charge\n"
     ]
    }
   ],
   "source": [
    "eosdir_pos = '/eos/uscms/store/user/jennetd/smart-pixels/dataset678/unflipped-positive/'\n",
    "eosdir_neg = '/eos/uscms/store/user/jennetd/smart-pixels/dataset678/unflipped-negative/'\n",
    "\n",
    "df = pd.DataFrame()\n",
    "\n",
    "print('Processing + charge')\n",
    "for f in os.listdir(eosdir_pos):\n",
    "    if 'recon' in f:\n",
    "        continue\n",
    "        \n",
    "    thisdf = pd.read_csv(eosdir_pos+f)\n",
    "    thatdf = pd.read_csv(eosdir_pos+'recon2D_'+f.split('_')[1])\n",
    "    \n",
    "    thisdf['size'] = thatdf.astype(bool).sum(axis=1)\n",
    "    \n",
    "    df = pd.concat([df,thisdf])\n",
    "    \n",
    "print('Processing - charge')\n",
    "for f in os.listdir(eosdir_neg):\n",
    "    if 'recon' in f:\n",
    "        continue\n",
    "        \n",
    "    thisdf = pd.read_csv(eosdir_neg+f)\n",
    "    thatdf = pd.read_csv(eosdir_neg+'recon2D_'+f.split('_')[1])\n",
    "    \n",
    "    thisdf['size'] = thatdf.astype(bool).sum(axis=1)\n",
    "    \n",
    "    df = pd.concat([df,thisdf])"
   ]
  },
  {
   "cell_type": "code",
   "execution_count": 16,
   "metadata": {},
   "outputs": [
    {
     "data": {
      "text/html": [
       "<div>\n",
       "<style scoped>\n",
       "    .dataframe tbody tr th:only-of-type {\n",
       "        vertical-align: middle;\n",
       "    }\n",
       "\n",
       "    .dataframe tbody tr th {\n",
       "        vertical-align: top;\n",
       "    }\n",
       "\n",
       "    .dataframe thead th {\n",
       "        text-align: right;\n",
       "    }\n",
       "</style>\n",
       "<table border=\"1\" class=\"dataframe\">\n",
       "  <thead>\n",
       "    <tr style=\"text-align: right;\">\n",
       "      <th></th>\n",
       "      <th>x-entry</th>\n",
       "      <th>y-entry</th>\n",
       "      <th>z-entry</th>\n",
       "      <th>n_x</th>\n",
       "      <th>n_y</th>\n",
       "      <th>n_z</th>\n",
       "      <th>number_eh_pairs</th>\n",
       "      <th>y-local</th>\n",
       "      <th>pt</th>\n",
       "      <th>cotAlpha</th>\n",
       "      <th>cotBeta</th>\n",
       "      <th>y-midplane</th>\n",
       "      <th>x-midplane</th>\n",
       "      <th>size</th>\n",
       "    </tr>\n",
       "  </thead>\n",
       "  <tbody>\n",
       "    <tr>\n",
       "      <th>0</th>\n",
       "      <td>187.960602</td>\n",
       "      <td>5.819384</td>\n",
       "      <td>100.0</td>\n",
       "      <td>-3.201757</td>\n",
       "      <td>-0.015797</td>\n",
       "      <td>-0.738721</td>\n",
       "      <td>37967.0</td>\n",
       "      <td>-0.963780</td>\n",
       "      <td>0.740845</td>\n",
       "      <td>4.334190</td>\n",
       "      <td>0.021384</td>\n",
       "      <td>4.750171</td>\n",
       "      <td>-28.748886</td>\n",
       "      <td>19</td>\n",
       "    </tr>\n",
       "    <tr>\n",
       "      <th>1</th>\n",
       "      <td>9.408124</td>\n",
       "      <td>13.200923</td>\n",
       "      <td>100.0</td>\n",
       "      <td>0.826235</td>\n",
       "      <td>0.026282</td>\n",
       "      <td>-1.371215</td>\n",
       "      <td>6538.0</td>\n",
       "      <td>0.884188</td>\n",
       "      <td>1.372050</td>\n",
       "      <td>-0.602557</td>\n",
       "      <td>-0.019167</td>\n",
       "      <td>14.159270</td>\n",
       "      <td>39.535967</td>\n",
       "      <td>6</td>\n",
       "    </tr>\n",
       "    <tr>\n",
       "      <th>2</th>\n",
       "      <td>84.732826</td>\n",
       "      <td>10.721191</td>\n",
       "      <td>100.0</td>\n",
       "      <td>-0.306291</td>\n",
       "      <td>0.083919</td>\n",
       "      <td>-0.791659</td>\n",
       "      <td>5891.0</td>\n",
       "      <td>4.285150</td>\n",
       "      <td>0.795417</td>\n",
       "      <td>0.386898</td>\n",
       "      <td>-0.106004</td>\n",
       "      <td>16.021390</td>\n",
       "      <td>65.387944</td>\n",
       "      <td>5</td>\n",
       "    </tr>\n",
       "    <tr>\n",
       "      <th>3</th>\n",
       "      <td>-256.300446</td>\n",
       "      <td>-5.275360</td>\n",
       "      <td>100.0</td>\n",
       "      <td>7.125055</td>\n",
       "      <td>0.304351</td>\n",
       "      <td>-1.834402</td>\n",
       "      <td>28788.0</td>\n",
       "      <td>5.466930</td>\n",
       "      <td>1.858530</td>\n",
       "      <td>-3.884130</td>\n",
       "      <td>-0.165913</td>\n",
       "      <td>3.020286</td>\n",
       "      <td>-62.093969</td>\n",
       "      <td>17</td>\n",
       "    </tr>\n",
       "    <tr>\n",
       "      <th>4</th>\n",
       "      <td>-46.793102</td>\n",
       "      <td>3.082501</td>\n",
       "      <td>100.0</td>\n",
       "      <td>-0.121722</td>\n",
       "      <td>-0.072646</td>\n",
       "      <td>-1.224502</td>\n",
       "      <td>7427.0</td>\n",
       "      <td>-1.060050</td>\n",
       "      <td>1.226800</td>\n",
       "      <td>0.099405</td>\n",
       "      <td>0.059327</td>\n",
       "      <td>0.116152</td>\n",
       "      <td>-51.763367</td>\n",
       "      <td>4</td>\n",
       "    </tr>\n",
       "  </tbody>\n",
       "</table>\n",
       "</div>"
      ],
      "text/plain": [
       "      x-entry    y-entry  z-entry       n_x       n_y       n_z  \\\n",
       "0  187.960602   5.819384    100.0 -3.201757 -0.015797 -0.738721   \n",
       "1    9.408124  13.200923    100.0  0.826235  0.026282 -1.371215   \n",
       "2   84.732826  10.721191    100.0 -0.306291  0.083919 -0.791659   \n",
       "3 -256.300446  -5.275360    100.0  7.125055  0.304351 -1.834402   \n",
       "4  -46.793102   3.082501    100.0 -0.121722 -0.072646 -1.224502   \n",
       "\n",
       "   number_eh_pairs   y-local        pt  cotAlpha   cotBeta  y-midplane  \\\n",
       "0          37967.0 -0.963780  0.740845  4.334190  0.021384    4.750171   \n",
       "1           6538.0  0.884188  1.372050 -0.602557 -0.019167   14.159270   \n",
       "2           5891.0  4.285150  0.795417  0.386898 -0.106004   16.021390   \n",
       "3          28788.0  5.466930  1.858530 -3.884130 -0.165913    3.020286   \n",
       "4           7427.0 -1.060050  1.226800  0.099405  0.059327    0.116152   \n",
       "\n",
       "   x-midplane  size  \n",
       "0  -28.748886    19  \n",
       "1   39.535967     6  \n",
       "2   65.387944     5  \n",
       "3  -62.093969    17  \n",
       "4  -51.763367     4  "
      ]
     },
     "execution_count": 16,
     "metadata": {},
     "output_type": "execute_result"
    }
   ],
   "source": [
    "df.head()"
   ]
  },
  {
   "cell_type": "code",
   "execution_count": 21,
   "metadata": {},
   "outputs": [
    {
     "data": {
      "text/plain": [
       "Text(0.5, 0, 'Cluster size')"
      ]
     },
     "execution_count": 21,
     "metadata": {},
     "output_type": "execute_result"
    },
    {
     "data": {
      "image/png": "[encoded data removed]",
      "text/plain": [
       "<Figure size 432x288 with 1 Axes>"
      ]
     },
     "metadata": {
      "needs_background": "light"
     },
     "output_type": "display_data"
    }
   ],
   "source": [
    "plt.hist(df['size'],bins=np.linspace(0,60,60));\n",
    "plt.xlabel('Cluster size')"
   ]
  },
  {
   "cell_type": "code",
   "execution_count": 19,
   "metadata": {},
   "outputs": [
    {
     "name": "stdout",
     "output_type": "stream",
     "text": [
      "12.188466547920676 7.152196815880327\n"
     ]
    }
   ],
   "source": [
    "print(np.mean(df['size']),np.std(df['size']))"
   ]
  },
  {
   "cell_type": "code",
   "execution_count": 26,
   "metadata": {},
   "outputs": [
    {
     "data": {
      "image/png": "[encoded data removed]",
      "text/plain": [
       "<Figure size 432x288 with 1 Axes>"
      ]
     },
     "metadata": {
      "needs_background": "light"
     },
     "output_type": "display_data"
    }
   ],
   "source": [
    "plt.hist2d(x=df['cotAlpha'],y=df['size'],bins=[np.linspace(-8,8,50),np.linspace(0,60,60)]);"
   ]
  },
  {
   "cell_type": "code",
   "execution_count": 29,
   "metadata": {},
   "outputs": [
    {
     "data": {
      "image/png": "[encoded data removed]",
      "text/plain": [
       "<Figure size 432x288 with 1 Axes>"
      ]
     },
     "metadata": {
      "needs_background": "light"
     },
     "output_type": "display_data"
    }
   ],
   "source": [
    "plt.hist2d(x=df['cotBeta'],y=df['size'],bins=[np.linspace(-0.3,0.3,50),np.linspace(0,60,60)]);"
   ]
  },
  {
   "cell_type": "code",
   "execution_count": 30,
   "metadata": {},
   "outputs": [
    {
     "data": {
      "image/png": "[encoded data removed]",
      "text/plain": [
       "<Figure size 432x288 with 1 Axes>"
      ]
     },
     "metadata": {
      "needs_background": "light"
     },
     "output_type": "display_data"
    }
   ],
   "source": [
    "plt.hist2d(x=df['y-local'],y=df['size'],bins=[np.linspace(-8,8,50),np.linspace(0,60,60)]);"
   ]
  },
  {
   "cell_type": "code",
   "execution_count": 32,
   "metadata": {},
   "outputs": [
    {
     "data": {
      "image/png": "[encoded data removed]",
      "text/plain": [
       "<Figure size 432x288 with 1 Axes>"
      ]
     },
     "metadata": {
      "needs_background": "light"
     },
     "output_type": "display_data"
    }
   ],
   "source": [
    "plt.hist2d(x=abs(df['pt']),y=df['size'],bins=[np.linspace(0,5,50),np.linspace(0,60,60)]);"
   ]
  },
  {
   "cell_type": "code",
   "execution_count": 33,
   "metadata": {},
   "outputs": [
    {
     "data": {
      "image/png": "[encoded data removed]",
      "text/plain": [
       "<Figure size 432x288 with 1 Axes>"
      ]
     },
     "metadata": {
      "needs_background": "light"
     },
     "output_type": "display_data"
    }
   ],
   "source": [
    "split = 0.2\n",
    "\n",
    "fig, ax1 = plt.subplots()\n",
    "\n",
    "sns.regplot(x=df['y-local'][abs(df['pt'])>3], y=df['size'][abs(df['pt'])>3], x_bins=np.linspace(-8.1,8.1,20), fit_reg=None, marker='.',ci=68,color='black',ax=ax1,label=r'$p_T>3$ GeV')\n",
    "sns.regplot(x=df['y-local'][(abs(df['pt'])<split) & (df['pt']>0)], y=df['size'][(abs(df['pt'])<split) & (df['pt']>0)], x_bins=np.linspace(-8.1,8.1,20), fit_reg=None, marker='.',ci=68,color='red',ax=ax1,label=r'$p_T<0.2$ GeV (+)')\n",
    "sns.regplot(x=df['y-local'][(abs(df['pt'])<split) & (df['pt']<0)], y=df['size'][(abs(df['pt'])<split) & (df['pt']<0)], x_bins=np.linspace(-8.1,8.1,20), fit_reg=None, marker='.',ci=68,color='blue',ax=ax1,label=r'$p_T<0.2$ GeV ($-$)')\n",
    "ax1.set_ylabel('Cluster size [pixels]')\n",
    "ax1.set_xlabel(r'$y_0$ [mm]')\n",
    "#ax1.set_ylim(2,7.5)\n",
    "plt.legend(frameon=False)\n",
    "\n",
    "plt.savefig('dataset678/ylocal_size.pdf',bbox_inches='tight')\n"
   ]
  },
  {
   "cell_type": "code",
   "execution_count": null,
   "metadata": {},
   "outputs": [],
   "source": []
  }
 ],
 "metadata": {
  "kernelspec": {
   "display_name": "Python 3 (ipykernel)",
   "language": "python",
   "name": "python3"
  },
  "language_info": {
   "codemirror_mode": {
    "name": "ipython",
    "version": 3
   },
   "file_extension": ".py",
   "mimetype": "text/x-python",
   "name": "python",
   "nbconvert_exporter": "python",
   "pygments_lexer": "ipython3",
   "version": "3.12.2"
  }
 },
 "nbformat": 4,
 "nbformat_minor": 4
}
